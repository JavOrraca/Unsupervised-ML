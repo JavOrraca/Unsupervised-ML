{
 "cells": [
  {
   "cell_type": "markdown",
   "metadata": {},
   "source": [
    "To begin, download the file SC_data_CleanedUp.csv and set your working directory. If not already installed, install the dplyr and ade4 R packages for data manipulation and clustering."
   ]
  },
  {
   "cell_type": "code",
   "execution_count": 15,
   "metadata": {},
   "outputs": [
    {
     "name": "stderr",
     "output_type": "stream",
     "text": [
      "Warning message:\n",
      "\"package 'dplyr' is in use and will not be installed\"Warning message:\n",
      "\"package 'ade4' is in use and will not be installed\""
     ]
    }
   ],
   "source": [
    "data <- read.csv(\"SC_data_CleanedUp.csv\")\n",
    "\n",
    "install.packages(\"dplyr\")\n",
    "library(dplyr)\n",
    "\n",
    "install.packages(\"ade4\")\n",
    "library(ade4)"
   ]
  },
  {
   "cell_type": "markdown",
   "metadata": {},
   "source": [
    "Aggregate to the customer-trip level and confirm aggregation was successful by testing if the to-be-created \"customer_data\" is a data frame."
   ]
  },
  {
   "cell_type": "code",
   "execution_count": 16,
   "metadata": {},
   "outputs": [
    {
     "data": {
      "text/html": [
       "TRUE"
      ],
      "text/latex": [
       "TRUE"
      ],
      "text/markdown": [
       "TRUE"
      ],
      "text/plain": [
       "[1] TRUE"
      ]
     },
     "metadata": {},
     "output_type": "display_data"
    },
    {
     "data": {
      "text/html": [
       "<ol class=list-inline>\n",
       "\t<li>17946</li>\n",
       "\t<li>15</li>\n",
       "</ol>\n"
      ],
      "text/latex": [
       "\\begin{enumerate*}\n",
       "\\item 17946\n",
       "\\item 15\n",
       "\\end{enumerate*}\n"
      ],
      "text/markdown": [
       "1. 17946\n",
       "2. 15\n",
       "\n",
       "\n"
      ],
      "text/plain": [
       "[1] 17946    15"
      ]
     },
     "metadata": {},
     "output_type": "display_data"
    }
   ],
   "source": [
    "customer_data <- data%>% \n",
    "  group_by(PNRLocatorID,CustID)%>%\n",
    "  summarise(PaxName = first(PaxName),\n",
    "            BookingChannel = first(BookingChannel), \n",
    "            amt = max(TotalDocAmt), \n",
    "            UFlyRewards = first(UFlyRewardsNumber), \n",
    "            UflyMemberStatus = first(UflyMemberStatus), \n",
    "            age_group = first(age_group), \n",
    "            true_origin = first(true_origin), \n",
    "            true_destination = first(true_destination), \n",
    "            round_trip = first(round_trip), \n",
    "            group_size = first(group_size), \n",
    "            group = first(group), \n",
    "            seasonality = first(Seasonality), \n",
    "            days_pre_booked = max(days_pre_booked))\n",
    "\n",
    "is.data.frame(customer_data)\n",
    "\n",
    "dim(customer_data)"
   ]
  },
  {
   "cell_type": "markdown",
   "metadata": {},
   "source": [
    "Remove unnecessary variables (encrypted names, customer IDs, etc.). Normalize the amt, days_pre_booked, and group_size variables."
   ]
  },
  {
   "cell_type": "code",
   "execution_count": 17,
   "metadata": {},
   "outputs": [],
   "source": [
    "clustering_data <- subset(customer_data,select = -c(PNRLocatorID,CustID,PaxName,UFlyRewards))\n",
    "\n",
    "normalize <- function(x){\n",
    "  return ((x - min(x))/(max(x) - min(x)))}\n",
    "\n",
    "clustering_data = mutate(clustering_data,\n",
    "            amt = normalize(amt),\n",
    "            days_pre_booked = normalize(days_pre_booked), \n",
    "            group_size = normalize(group_size))"
   ]
  },
  {
   "cell_type": "markdown",
   "metadata": {},
   "source": [
    "Since the k-means clustering algorithm works only with numerical data, we need to convert each of the categorical factor levels into numerical dummy variables (\"0\" or \"1\"). The ade4 package will be used to convert the categorical data into these numerical dummy variables."
   ]
  },
  {
   "cell_type": "code",
   "execution_count": 18,
   "metadata": {},
   "outputs": [],
   "source": [
    "clustering_data <- as.data.frame(clustering_data)\n",
    "clustering_data <- clustering_data %>% \n",
    "  cbind(acm.disjonctif(clustering_data[,c(\"BookingChannel\",\"age_group\",\"true_origin\",\"true_destination\",\n",
    "                                          \"UflyMemberStatus\",\"seasonality\")])) %>% ungroup()\n",
    "\n",
    "#For cleanliness, remove the original, non-dummy-coded variables.\n",
    "clustering_data<-clustering_data %>% select(-BookingChannel,-age_group,-true_origin,-true_destination,-UflyMemberStatus,-seasonality)"
   ]
  },
  {
   "cell_type": "markdown",
   "metadata": {},
   "source": [
    "Now we can run k-means to gain a better understanding at the within SSE curve. We'll analyze SSE while comparing the impact on SSE from 1 to 15 clusters.\n",
    "\n",
    "_Note: The sum of squared errors (or \"SSE\") is the sum of the squared differences between each observation and its cluster's mean. In the context of this clustering analysis, SSE is used as a measure of variation. If all observations within a cluster are identical, the SSE would be equal to 0. Modeling for \"the lowest SSE possible\" is not ideal as this results in model overfitting._"
   ]
  },
  {
   "cell_type": "code",
   "execution_count": 26,
   "metadata": {},
   "outputs": [
    {
     "data": {
      "image/png": "[encoded data removed]",
      "text/plain": [
       "Plot with title \"SSE Curve for Ideal k-Value\""
      ]
     },
     "metadata": {},
     "output_type": "display_data"
    }
   ],
   "source": [
    "SSE_curve <- c()\n",
    "for (n in 1:15) {\n",
    "  kcluster <- kmeans(clustering_data, n)\n",
    "  sse <- sum(kcluster$withinss)\n",
    "  SSE_curve[n] <- sse\n",
    "}\n",
    "\n",
    "plot(1:15, SSE_curve, type=\"b\", main=\"SSE Curve for Ideal k-Value\", xlab=\"Number of Clusters\", ylab=\"Sum of Squared Errors (SSE)\")"
   ]
  },
  {
   "cell_type": "markdown",
   "metadata": {},
   "source": [
    "Given the plot above, the change in SSE decreases significantly after ~5 clusters. Let's select 5 clusters for the purpose of this customer segmentation."
   ]
  },
  {
   "cell_type": "code",
   "execution_count": 24,
   "metadata": {},
   "outputs": [
    {
     "name": "stdout",
     "output_type": "stream",
     "text": [
      "[1] \"The following represents the size of each cluster:\"\n"
     ]
    },
    {
     "data": {
      "text/html": [
       "<ol class=list-inline>\n",
       "\t<li>2748</li>\n",
       "\t<li>4339</li>\n",
       "\t<li>2643</li>\n",
       "\t<li>5238</li>\n",
       "\t<li>2978</li>\n",
       "</ol>\n"
      ],
      "text/latex": [
       "\\begin{enumerate*}\n",
       "\\item 2748\n",
       "\\item 4339\n",
       "\\item 2643\n",
       "\\item 5238\n",
       "\\item 2978\n",
       "\\end{enumerate*}\n"
      ],
      "text/markdown": [
       "1. 2748\n",
       "2. 4339\n",
       "3. 2643\n",
       "4. 5238\n",
       "5. 2978\n",
       "\n",
       "\n"
      ],
      "text/plain": [
       "[1] 2748 4339 2643 5238 2978"
      ]
     },
     "metadata": {},
     "output_type": "display_data"
    }
   ],
   "source": [
    "kcluster<- kmeans(clustering_data, 5)\n",
    "\n",
    "print(\"The following represents the size of each cluster:\")\n",
    "kcluster$size"
   ]
  },
  {
   "cell_type": "markdown",
   "metadata": {},
   "source": [
    "Lastly, add a new column with the cluster assignment into the CSV file, and call this field \"Segment\", for each observation in customer_data. After running the code below, this analysis will be completed."
   ]
  },
  {
   "cell_type": "code",
   "execution_count": 25,
   "metadata": {},
   "outputs": [],
   "source": [
    "segment <- as.data.frame(kcluster$cluster)\n",
    "colnames(segment) <- \"Segment\" \n",
    "customer_segment_data <- cbind.data.frame(customer_data, segment)\n",
    "write.csv(customer_segment_data, \"SC_customer_segment_data.csv\")"
   ]
  }
 ],
 "metadata": {
  "kernelspec": {
   "display_name": "R",
   "language": "R",
   "name": "ir"
  },
  "language_info": {
   "codemirror_mode": "r",
   "file_extension": ".r",
   "mimetype": "text/x-r-source",
   "name": "R",
   "pygments_lexer": "r",
   "version": "3.4.3"
  }
 },
 "nbformat": 4,
 "nbformat_minor": 2
}
