{
 "cells": [
  {
   "cell_type": "markdown",
   "metadata": {},
   "source": [
    "To begin, install the dplyr and ade4 R packages for data manipulation and clustering (if not already installed)."
   ]
  },
  {
   "cell_type": "code",
   "execution_count": 1,
   "metadata": {},
   "outputs": [],
   "source": [
    "install.packages(\"dplyr\")\n",
    "library(dplyr)\n",
    "\n",
    "install.packages(\"ade4\")\n",
    "library(ade4)"
   ]
  },
  {
   "cell_type": "markdown",
   "metadata": {},
   "source": [
    "Then, download the file SC_data_CleanedUp.csv, assign it to \"data\" and then aggregate to the customer-trip level. Confirm aggregation was successful by testing if the to-be-assigned \"customer_data\" object is a data frame."
   ]
  },
  {
   "cell_type": "code",
   "execution_count": 2,
   "metadata": {},
   "outputs": [
    {
     "data": {
      "text/html": [
       "TRUE"
      ],
      "text/latex": [
       "TRUE"
      ],
      "text/markdown": [
       "TRUE"
      ],
      "text/plain": [
       "[1] TRUE"
      ]
     },
     "metadata": {},
     "output_type": "display_data"
    },
    {
     "data": {
      "text/html": [
       "<ol class=list-inline>\n",
       "\t<li>17946</li>\n",
       "\t<li>15</li>\n",
       "</ol>\n"
      ],
      "text/latex": [
       "\\begin{enumerate*}\n",
       "\\item 17946\n",
       "\\item 15\n",
       "\\end{enumerate*}\n"
      ],
      "text/markdown": [
       "1. 17946\n",
       "2. 15\n",
       "\n",
       "\n"
      ],
      "text/plain": [
       "[1] 17946    15"
      ]
     },
     "metadata": {},
     "output_type": "display_data"
    }
   ],
   "source": [
    "data <- read.csv(\"SC_data_CleanedUp.csv\")\n",
    "\n",
    "customer_data <- data%>% \n",
    "  group_by(PNRLocatorID,CustID)%>%\n",
    "  summarise(PaxName = first(PaxName),\n",
    "            BookingChannel = first(BookingChannel), \n",
    "            amt = max(TotalDocAmt), \n",
    "            UFlyRewards = first(UFlyRewardsNumber), \n",
    "            UflyMemberStatus = first(UflyMemberStatus), \n",
    "            age_group = first(age_group), \n",
    "            true_origin = first(true_origin), \n",
    "            true_destination = first(true_destination), \n",
    "            round_trip = first(round_trip), \n",
    "            group_size = first(group_size), \n",
    "            group = first(group), \n",
    "            seasonality = first(Seasonality), \n",
    "            days_pre_booked = max(days_pre_booked))\n",
    "\n",
    "is.data.frame(customer_data)\n",
    "\n",
    "dim(customer_data)"
   ]
  },
  {
   "cell_type": "markdown",
   "metadata": {},
   "source": [
    "Remove unnecessary variables (encrypted names, customer IDs, etc.). Normalize the amt, days_pre_booked, and group_size variables."
   ]
  },
  {
   "cell_type": "code",
   "execution_count": 3,
   "metadata": {},
   "outputs": [],
   "source": [
    "clustering_data <- subset(customer_data,select = -c(PNRLocatorID,CustID,PaxName,UFlyRewards))\n",
    "\n",
    "normalize <- function(x){\n",
    "  return ((x - min(x))/(max(x) - min(x)))}\n",
    "\n",
    "clustering_data = mutate(clustering_data,\n",
    "            amt = normalize(amt),\n",
    "            days_pre_booked = normalize(days_pre_booked), \n",
    "            group_size = normalize(group_size))"
   ]
  },
  {
   "cell_type": "markdown",
   "metadata": {},
   "source": [
    "Since the k-means clustering algorithm works only with numerical data, we need to convert each of the categorical factor levels into numerical dummy variables (\"0\" or \"1\"). The ade4 package will be used to convert the categorical data into these numerical dummy variables."
   ]
  },
  {
   "cell_type": "code",
   "execution_count": 4,
   "metadata": {},
   "outputs": [],
   "source": [
    "clustering_data <- as.data.frame(clustering_data)\n",
    "clustering_data <- clustering_data %>% \n",
    "  cbind(acm.disjonctif(clustering_data[,c(\"BookingChannel\",\"age_group\",\"true_origin\",\"true_destination\",\n",
    "                                          \"UflyMemberStatus\",\"seasonality\")])) %>% ungroup()\n",
    "\n",
    "#For cleanliness, remove the original, non-dummy-coded variables.\n",
    "clustering_data<-clustering_data %>% select(-BookingChannel,-age_group,-true_origin,-true_destination,-UflyMemberStatus,-seasonality)"
   ]
  },
  {
   "cell_type": "markdown",
   "metadata": {},
   "source": [
    "Now we can run k-means to gain a better understanding at the within SSE curve. We'll analyze SSE while comparing the impact on SSE from 1 to 15 clusters.\n",
    "\n",
    "_Note: The sum of squared errors (or \"SSE\") is the sum of the squared differences between each observation and its cluster's mean. In the context of this clustering analysis, SSE is used as a measure of variation. If all observations within a cluster are identical, the SSE would be equal to 0. Modeling for \"the lowest SSE possible\" is not ideal as this results in model overfitting._"
   ]
  },
  {
   "cell_type": "code",
   "execution_count": 5,
   "metadata": {},
   "outputs": [
    {
     "data": {
      "image/png": "[encoded data removed]",
      "text/plain": [
       "Plot with title \"SSE Curve for Ideal k-Value\""
      ]
     },
     "metadata": {},
     "output_type": "display_data"
    }
   ],
   "source": [
    "SSE_curve <- c()\n",
    "for (n in 1:15) {\n",
    "  kcluster <- kmeans(clustering_data, n)\n",
    "  sse <- sum(kcluster$withinss)\n",
    "  SSE_curve[n] <- sse\n",
    "}\n",
    "\n",
    "plot(1:15, SSE_curve, type=\"b\", main=\"SSE Curve for Ideal k-Value\", xlab=\"Number of Clusters\", ylab=\"Sum of Squared Errors (SSE)\")"
   ]
  },
  {
   "cell_type": "markdown",
   "metadata": {},
   "source": [
    "Given the plot above, the change in SSE decreases significantly after ~5 clusters. Let's select 5 clusters for the purpose of this customer segmentation."
   ]
  },
  {
   "cell_type": "code",
   "execution_count": 6,
   "metadata": {},
   "outputs": [
    {
     "name": "stdout",
     "output_type": "stream",
     "text": [
      "[1] \"The following represents the size of each cluster:\"\n"
     ]
    },
    {
     "data": {
      "text/html": [
       "<ol class=list-inline>\n",
       "\t<li>3909</li>\n",
       "\t<li>3384</li>\n",
       "\t<li>2325</li>\n",
       "\t<li>4656</li>\n",
       "\t<li>3672</li>\n",
       "</ol>\n"
      ],
      "text/latex": [
       "\\begin{enumerate*}\n",
       "\\item 3909\n",
       "\\item 3384\n",
       "\\item 2325\n",
       "\\item 4656\n",
       "\\item 3672\n",
       "\\end{enumerate*}\n"
      ],
      "text/markdown": [
       "1. 3909\n",
       "2. 3384\n",
       "3. 2325\n",
       "4. 4656\n",
       "5. 3672\n",
       "\n",
       "\n"
      ],
      "text/plain": [
       "[1] 3909 3384 2325 4656 3672"
      ]
     },
     "metadata": {},
     "output_type": "display_data"
    }
   ],
   "source": [
    "kcluster<- kmeans(clustering_data, 5)\n",
    "\n",
    "print(\"The following represents the size of each cluster:\")\n",
    "kcluster$size"
   ]
  },
  {
   "cell_type": "markdown",
   "metadata": {},
   "source": [
    "Lastly, add a new column with the cluster assignment into the CSV file, and call this field \"Segment\", for each observation in customer_data. After running the code below, this analysis will be completed."
   ]
  },
  {
   "cell_type": "code",
   "execution_count": 7,
   "metadata": {},
   "outputs": [],
   "source": [
    "segment <- as.data.frame(kcluster$cluster)\n",
    "colnames(segment) <- \"Segment\" \n",
    "customer_segment_data <- cbind.data.frame(customer_data, segment)\n",
    "write.csv(customer_segment_data, \"SC_customer_segment_data.csv\")"
   ]
  }
 ],
 "metadata": {
  "kernelspec": {
   "display_name": "R",
   "language": "R",
   "name": "ir"
  },
  "language_info": {
   "codemirror_mode": "r",
   "file_extension": ".r",
   "mimetype": "text/x-r-source",
   "name": "R",
   "pygments_lexer": "r",
   "version": "3.4.3"
  }
 },
 "nbformat": 4,
 "nbformat_minor": 2
}
